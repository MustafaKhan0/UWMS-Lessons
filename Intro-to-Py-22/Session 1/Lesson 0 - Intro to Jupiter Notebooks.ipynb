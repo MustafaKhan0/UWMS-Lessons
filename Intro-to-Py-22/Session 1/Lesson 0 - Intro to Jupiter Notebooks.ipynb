{
 "cells": [
  {
   "cell_type": "markdown",
   "metadata": {},
   "source": [
    "This is called a Jupiter Notebook! It can be run through Google Colab, a google service which allows you to code! That's pretty cool! "
   ]
  },
  {
   "cell_type": "code",
   "execution_count": null,
   "metadata": {},
   "outputs": [],
   "source": [
    "# This is cell is called a code cell. You can write code in it"
   ]
  },
  {
   "cell_type": "markdown",
   "metadata": {},
   "source": [
    "This is a text cell. You can write normal english in this!"
   ]
  },
  {
   "cell_type": "code",
   "execution_count": null,
   "metadata": {},
   "outputs": [],
   "source": [
    "# This green text within a code cell is called a comment. You can write normal english in here\n",
    "# Comments are used to tell other people what the code does\n",
    "# To write a comment, you create a # (hashtag) and write on the line after that"
   ]
  },
  {
   "cell_type": "code",
   "execution_count": null,
   "metadata": {},
   "outputs": [],
   "source": [
    "# Try making your own comment here!\n",
    "\n"
   ]
  },
  {
   "cell_type": "markdown",
   "metadata": {},
   "source": [
    "Another important note about Jupiter Notebooks is that they have a different output area. The output area is below the code cell that you run, and is called the console!"
   ]
  },
  {
   "cell_type": "markdown",
   "metadata": {},
   "source": [
    "We will learn two ways to output things in a Jupiter Notebook:\n",
    "\n",
    "First: Run a calculation or another piece of code that doesn't have an equal sign. (It's more complex than this, but we'll learn about that later)"
   ]
  },
  {
   "cell_type": "code",
   "execution_count": 1,
   "metadata": {},
   "outputs": [
    {
     "data": {
      "text/plain": [
       "2"
      ]
     },
     "execution_count": 1,
     "metadata": {},
     "output_type": "execute_result"
    }
   ],
   "source": [
    "# If we run a piece of math or code without an equal sign, it will output it to the output window. \n",
    "# Run this cell to try it!\n",
    "# Hint - you can run a cell by clicking the play button next to the cell\n",
    "\n",
    "1 + 1"
   ]
  },
  {
   "cell_type": "markdown",
   "metadata": {},
   "source": [
    "Second: by using the built in print function. The print function outputs whatever you specify in the parenthesis"
   ]
  },
  {
   "cell_type": "code",
   "execution_count": 2,
   "metadata": {},
   "outputs": [
    {
     "name": "stdout",
     "output_type": "stream",
     "text": [
      "2\n"
     ]
    }
   ],
   "source": [
    "print(1+1)"
   ]
  },
  {
   "cell_type": "markdown",
   "metadata": {},
   "source": [
    "Now you try it!"
   ]
  },
  {
   "cell_type": "code",
   "execution_count": null,
   "metadata": {},
   "outputs": [],
   "source": [
    "# Output to the console by not using an equal sign\n",
    "\n"
   ]
  },
  {
   "cell_type": "code",
   "execution_count": null,
   "metadata": {},
   "outputs": [],
   "source": [
    "# Output to the console by using the print function!\n",
    "\n"
   ]
  },
  {
   "cell_type": "markdown",
   "metadata": {},
   "source": [
    "As you can see, you can do math in python! Python allows you to do basic arithmetic to very advanced math, which we may learn about later. "
   ]
  },
  {
   "cell_type": "markdown",
   "metadata": {},
   "source": [
    "For the four basic operations, addition, subtraction, multiplication, and division, we use different symbols. This is called the syntax for a certain operation\n",
    "\n",
    "Addition: 1 + 1\n",
    "\n",
    "Subtraction: 1 - 1\n",
    "\n",
    "Multiplication: 1 * 1\n",
    "\n",
    "Division: 1 / 1\n",
    "\n",
    "Try it yourself!"
   ]
  },
  {
   "cell_type": "code",
   "execution_count": null,
   "metadata": {},
   "outputs": [],
   "source": [
    "# Addition\n",
    "\n",
    "\n",
    "# Subtraction\n",
    "\n",
    "\n",
    "# Multiplication\n",
    "\n",
    "\n",
    "# Division\n",
    "\n"
   ]
  }
 ],
 "metadata": {
  "interpreter": {
   "hash": "8e54bfe7be49b8314065879a75218bdb8782b1e651fcaad6750fbeccd1a2ea9d"
  },
  "kernelspec": {
   "display_name": "Python 3.9.12 ('base')",
   "language": "python",
   "name": "python3"
  },
  "language_info": {
   "codemirror_mode": {
    "name": "ipython",
    "version": 3
   },
   "file_extension": ".py",
   "mimetype": "text/x-python",
   "name": "python",
   "nbconvert_exporter": "python",
   "pygments_lexer": "ipython3",
   "version": "3.9.12"
  },
  "orig_nbformat": 4
 },
 "nbformat": 4,
 "nbformat_minor": 2
}
