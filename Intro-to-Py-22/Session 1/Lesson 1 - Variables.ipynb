{
 "cells": [
  {
   "cell_type": "markdown",
   "metadata": {},
   "source": [
    "Welcome to Lesson 1 of the Curriculum! We will be learning about Variables in python and their uses!"
   ]
  },
  {
   "cell_type": "markdown",
   "metadata": {},
   "source": [
    "Variables are an object that is assigned a value which can change. While that may seem complex, variables are very simple. Let's use a metaphor to better understand it. "
   ]
  },
  {
   "cell_type": "markdown",
   "metadata": {},
   "source": [
    "You can think of variables like a box with a name. The box has something inside of it - a value. This can be changed. But whenever you want to refer to the thing inside the box, you can give the name of the box. You'll see why this is useful later. "
   ]
  },
  {
   "cell_type": "markdown",
   "metadata": {},
   "source": [
    "Let's say I want to do 1 + 1. Try writing that in the code cell below. "
   ]
  },
  {
   "cell_type": "code",
   "execution_count": 1,
   "metadata": {},
   "outputs": [
    {
     "data": {
      "text/plain": [
       "2"
      ]
     },
     "execution_count": 1,
     "metadata": {},
     "output_type": "execute_result"
    }
   ],
   "source": [
    "1 + 1"
   ]
  },
  {
   "cell_type": "markdown",
   "metadata": {},
   "source": [
    "Great! Now let's see what 1 + 2 is"
   ]
  },
  {
   "cell_type": "code",
   "execution_count": 2,
   "metadata": {},
   "outputs": [
    {
     "data": {
      "text/plain": [
       "3"
      ]
     },
     "execution_count": 2,
     "metadata": {},
     "output_type": "execute_result"
    }
   ],
   "source": [
    "1 + 2"
   ]
  },
  {
   "cell_type": "markdown",
   "metadata": {},
   "source": [
    "What is 2 + 2?"
   ]
  },
  {
   "cell_type": "code",
   "execution_count": 3,
   "metadata": {},
   "outputs": [
    {
     "data": {
      "text/plain": [
       "4"
      ]
     },
     "execution_count": 3,
     "metadata": {},
     "output_type": "execute_result"
    }
   ],
   "source": [
    "2 + 2"
   ]
  },
  {
   "cell_type": "markdown",
   "metadata": {},
   "source": [
    "You can probably see how typing this out is somewhat repetitive. That's what variables allow us to do - reuse and change values with ease!"
   ]
  },
  {
   "cell_type": "markdown",
   "metadata": {},
   "source": [
    "Variables can be named whatever you want, but we'll learn more about naming them later. For now, we're using num1 and num2. "
   ]
  },
  {
   "cell_type": "markdown",
   "metadata": {},
   "source": [
    "You can define a variable like this: "
   ]
  },
  {
   "cell_type": "code",
   "execution_count": null,
   "metadata": {},
   "outputs": [],
   "source": [
    "# Set each variable to its corresponding value\n",
    "num1 = 5\n",
    "num2 = 4"
   ]
  },
  {
   "cell_type": "markdown",
   "metadata": {},
   "source": [
    "Now try adding these two numbers together!"
   ]
  },
  {
   "cell_type": "code",
   "execution_count": null,
   "metadata": {},
   "outputs": [],
   "source": [
    "# Add num1 and num2 \n",
    "num1 + num2"
   ]
  },
  {
   "cell_type": "markdown",
   "metadata": {},
   "source": [
    "You are able to change these values, and reuse that code. Try it below!"
   ]
  },
  {
   "cell_type": "code",
   "execution_count": 1,
   "metadata": {},
   "outputs": [
    {
     "data": {
      "text/plain": [
       "15"
      ]
     },
     "execution_count": 1,
     "metadata": {},
     "output_type": "execute_result"
    }
   ],
   "source": [
    "# Redefine num1 as 3 and num2 as 12\n",
    "num1 = 3\n",
    "num2 = 12\n",
    "# Add num1 and num2 as we did previously\n",
    "num1+num2"
   ]
  },
  {
   "cell_type": "markdown",
   "metadata": {},
   "source": [
    "We can also set variables using other variables! \n",
    "\n",
    "Try defining a num3 as the sum of num1 and num2"
   ]
  },
  {
   "cell_type": "code",
   "execution_count": null,
   "metadata": {},
   "outputs": [],
   "source": [
    "# Set a new variable called num3 to num1 plus num2\n",
    "num3 = num1+num2"
   ]
  },
  {
   "cell_type": "markdown",
   "metadata": {},
   "source": [
    "Great! But you might notice a problem - num1, num2, and num3 aren't very descriptive so we don't know what the variable actually does and what it stores. "
   ]
  },
  {
   "cell_type": "markdown",
   "metadata": {},
   "source": [
    "Say we wanted to store the number of cows, sheep, chicken, and the total number of animals on a farm in variables. It would make more sense to name the variables after what they are counting/holding. Try defining the individual animals first. "
   ]
  },
  {
   "cell_type": "code",
   "execution_count": null,
   "metadata": {},
   "outputs": [],
   "source": [
    "# Define the number of cows, sheep, and chicken as variables. \n",
    "# The numbers can be whatever you want. Use a descriptive name!\n",
    "\n",
    "cows = 5\n",
    "sheep = 10\n",
    "chicken = 17"
   ]
  },
  {
   "cell_type": "markdown",
   "metadata": {},
   "source": [
    "Now, try using addition to create a variable that represents all the animals on the farm. "
   ]
  },
  {
   "cell_type": "code",
   "execution_count": null,
   "metadata": {},
   "outputs": [],
   "source": [
    "# Define a variable to store the number of animals in, and set it to the sum of all the animals\n",
    "animals = cows + sheep + chicken"
   ]
  },
  {
   "cell_type": "markdown",
   "metadata": {},
   "source": [
    "As you can see, naming variables descriptive names helps us understand our code better. However, there are some rules and best practices. "
   ]
  },
  {
   "cell_type": "markdown",
   "metadata": {},
   "source": [
    "Rules: \n",
    "- No spaces in the name\n",
    "- No numbers in the name\n",
    "\n",
    "Best Practices: \n",
    " - Use descriptive names (not just x, y, or num1)\n",
    " - The first letter of the name should be lowercase\n",
    " - When you have a two word variable name, make the start of the second word uppercase\n",
    " - Use with comments if you need to explain something further"
   ]
  },
  {
   "cell_type": "markdown",
   "metadata": {},
   "source": [
    "Now that we know how to make good variables, let's practice making them!"
   ]
  },
  {
   "cell_type": "code",
   "execution_count": null,
   "metadata": {},
   "outputs": [],
   "source": [
    "# Make variables that represent a bakery's products (bread, cake, cookies, and more)\n",
    "\n",
    "bread = 10\n",
    "cake = 6\n",
    "cookies = 50\n",
    "\n",
    "total_baked = bread + cake + cookies"
   ]
  },
  {
   "cell_type": "code",
   "execution_count": null,
   "metadata": {},
   "outputs": [],
   "source": [
    "# Make variables that represent how many students, teachers, and people there are in a school\n",
    "\n",
    "students = 500\n",
    "teachers = 35\n",
    "\n",
    "people = students + teachers"
   ]
  },
  {
   "cell_type": "code",
   "execution_count": null,
   "metadata": {},
   "outputs": [],
   "source": [
    "# CHALLENGE PROBLEM: Make variables that represent the income, expenses, and profit of a business\n",
    "\n",
    "income = 5000\n",
    "expenses = 1300\n",
    "\n",
    "profit = income - expenses"
   ]
  },
  {
   "cell_type": "code",
   "execution_count": null,
   "metadata": {},
   "outputs": [],
   "source": [
    "# CHALLENGE PROBLEM: Make variables that represent the width, length, and area of a garden!\n",
    "\n",
    "width = 5\n",
    "length = 8\n",
    "\n",
    "area = 5 * 8"
   ]
  }
 ],
 "metadata": {
  "interpreter": {
   "hash": "8e54bfe7be49b8314065879a75218bdb8782b1e651fcaad6750fbeccd1a2ea9d"
  },
  "kernelspec": {
   "display_name": "Python 3.9.12 ('base')",
   "language": "python",
   "name": "python3"
  },
  "language_info": {
   "codemirror_mode": {
    "name": "ipython",
    "version": 3
   },
   "file_extension": ".py",
   "mimetype": "text/x-python",
   "name": "python",
   "nbconvert_exporter": "python",
   "pygments_lexer": "ipython3",
   "version": "3.9.12"
  },
  "orig_nbformat": 4
 },
 "nbformat": 4,
 "nbformat_minor": 2
}
